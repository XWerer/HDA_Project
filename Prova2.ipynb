{
 "cells": [
  {
   "cell_type": "code",
   "execution_count": 1,
   "metadata": {},
   "outputs": [
    {
     "name": "stderr",
     "output_type": "stream",
     "text": [
      "Using TensorFlow backend.\n"
     ]
    },
    {
     "name": "stdout",
     "output_type": "stream",
     "text": [
      "1.13.1\n"
     ]
    }
   ],
   "source": [
    "import Model\n",
    "import tensorflow as tf\n",
    "import keras\n",
    "import os\n",
    "import re\n",
    "import hashlib\n",
    "import pandas as pd\n",
    "import numpy as np\n",
    "import matplotlib\n",
    "import matplotlib.pyplot as plt\n",
    "%matplotlib inline  \n",
    "import SpeechGenerator\n",
    "import librosa\n",
    "#from keras import losses\n",
    "\n",
    "#from extractMFCC import computeFeatures, computeFeatures1\n",
    "#from addNoise import addNoise\n",
    "print(tf.__version__)"
   ]
  },
  {
   "cell_type": "code",
   "execution_count": 2,
   "metadata": {},
   "outputs": [],
   "source": [
    "testWAVs = pd.read_csv('Dataset/testing_list.txt', sep=\" \", header=None)[0].tolist()\n",
    "valWAVs  = pd.read_csv('Dataset/validation_list.txt', sep=\" \", header=None)[0].tolist()\n",
    "\n",
    "for idx, item in enumerate(testWAVs):\n",
    "    testWAVs[idx] = \"Dataset/\" + testWAVs[idx]\n",
    "\n",
    "for idx, item in enumerate(valWAVs):\n",
    "    valWAVs[idx] = \"Dataset/\" + valWAVs[idx]"
   ]
  },
  {
   "cell_type": "code",
   "execution_count": 3,
   "metadata": {},
   "outputs": [],
   "source": [
    "DictCategs = {'nine' : 1, 'yes' : 2, \n",
    "                         'no' : 3, 'up' : 4, 'down' : 5, 'left' : 6, 'right' : 7, 'on' : 8, 'off' : 9, 'stop' : 10, 'go' : 11,\n",
    "                         'zero' : 12, 'one' : 13, 'two' : 14, 'three' : 15, 'four' : 16, 'five' : 17, 'six' : 18, \n",
    "                         'seven' : 19,  'eight' : 20, 'backward':0, 'bed':0, 'bird':0, 'cat':0, 'dog':0,\n",
    "                         'follow':0, 'forward':0, 'happy':0, 'house':0, 'learn':0, 'marvin':0, 'sheila':0, 'tree':0,\n",
    "                         'visual':0, 'wow':0}\n",
    "nCategs = 21"
   ]
  },
  {
   "cell_type": "code",
   "execution_count": 4,
   "metadata": {},
   "outputs": [],
   "source": [
    "allWAVs  = []\n",
    "for root, dirs, files in os.walk('Dataset/'):\n",
    "    if root != \"Dataset/_background_noise_\":\n",
    "        allWAVs += [root+'/'+ f for f in files if f.endswith('.wav')]\n",
    "trainWAVs = list( set(allWAVs)-set(valWAVs)-set(testWAVs) )"
   ]
  },
  {
   "cell_type": "code",
   "execution_count": 5,
   "metadata": {},
   "outputs": [
    {
     "name": "stdout",
     "output_type": "stream",
     "text": [
      "84843\n",
      "9981\n",
      "11005\n"
     ]
    }
   ],
   "source": [
    "print(len(trainWAVs))\n",
    "print(len(valWAVs))\n",
    "print(len(testWAVs))"
   ]
  },
  {
   "cell_type": "code",
   "execution_count": 6,
   "metadata": {},
   "outputs": [],
   "source": [
    "def _getFileCategory(file, catDict):\n",
    "    \"\"\"\n",
    "    Receives a file with name Dataset/<cat>/<filename> and returns an integer that is catDict[cat]\n",
    "    \"\"\"\n",
    "    categ = os.path.basename(os.path.dirname(file))\n",
    "    return catDict.get(categ,0)"
   ]
  },
  {
   "cell_type": "code",
   "execution_count": 7,
   "metadata": {},
   "outputs": [],
   "source": [
    "#get categories\n",
    "testWAVlabels = [_getFileCategory(f, DictCategs) for f in testWAVs]\n",
    "valWAVlabels = [_getFileCategory(f, DictCategs) for f in valWAVs]\n",
    "trainWAVlabels = [_getFileCategory(f, DictCategs) for f in trainWAVs]"
   ]
  },
  {
   "cell_type": "code",
   "execution_count": 8,
   "metadata": {},
   "outputs": [
    {
     "name": "stdout",
     "output_type": "stream",
     "text": [
      "84843\n",
      "9981\n",
      "11005\n"
     ]
    }
   ],
   "source": [
    "print(len(trainWAVlabels))\n",
    "print(len(valWAVlabels))\n",
    "print(len(testWAVlabels))\n",
    "#print(trainWAVs[60000])\n",
    "#print(trainWAVlabels[60000])"
   ]
  },
  {
   "cell_type": "code",
   "execution_count": 9,
   "metadata": {},
   "outputs": [
    {
     "data": {
      "text/plain": [
       "'def load_and_preprocess_data(file_name):\\n    # Required by tensorflow (strings are passed as bytes)\\n    # tf.strings.as_string(...)\\n    file_name = file_name.numpy()\\n    file_name = file_name.decode(\"utf-8\") \\n    #print(file_name)\\n    #print(type(file_name))\\n\\n    # Load data\\n    feats = computeFeatures(file_name)\\n    # Normalize\\n    mean = np.mean(feats, axis = 0)\\n    stv = np.std(feats, axis = 0)\\n    diff = np.subtract(feats, mean)\\n    feats = np.divide(diff, stv)\\n\\n    return feats.astype(np.float32)\\n\\n# example:\\n\\nfeats = load_and_preprocess_data(trainWAVs[25])\\nfeats = np.transpose(feats)\\n\\nplt.figure(figsize=(17,6))\\nplt.pcolormesh(feats)\\n\\nplt.title(\\'Spectrogram visualization\\')\\nplt.ylabel(\\'Frequency\\')\\nplt.xlabel(\\'Time\\')\\n\\nplt.show()\\nprint(trainWAVlabels[25])\\n'"
      ]
     },
     "execution_count": 9,
     "metadata": {},
     "output_type": "execute_result"
    }
   ],
   "source": [
    "\"\"\"def load_and_preprocess_data(file_name):\n",
    "    # Required by tensorflow (strings are passed as bytes)\n",
    "    # tf.strings.as_string(...)\n",
    "    file_name = file_name.numpy()\n",
    "    file_name = file_name.decode(\"utf-8\") \n",
    "    #print(file_name)\n",
    "    #print(type(file_name))\n",
    "\n",
    "    # Load data\n",
    "    feats = computeFeatures(file_name)\n",
    "    # Normalize\n",
    "    mean = np.mean(feats, axis = 0)\n",
    "    stv = np.std(feats, axis = 0)\n",
    "    diff = np.subtract(feats, mean)\n",
    "    feats = np.divide(diff, stv)\n",
    "\n",
    "    return feats.astype(np.float32)\n",
    "\n",
    "# example:\n",
    "\n",
    "feats = load_and_preprocess_data(trainWAVs[25])\n",
    "feats = np.transpose(feats)\n",
    "\n",
    "plt.figure(figsize=(17,6))\n",
    "plt.pcolormesh(feats)\n",
    "\n",
    "plt.title('Spectrogram visualization')\n",
    "plt.ylabel('Frequency')\n",
    "plt.xlabel('Time')\n",
    "\n",
    "plt.show()\n",
    "print(trainWAVlabels[25])\n",
    "\"\"\""
   ]
  },
  {
   "cell_type": "code",
   "execution_count": 10,
   "metadata": {},
   "outputs": [
    {
     "data": {
      "text/plain": [
       "'def create_dataset(file_names, labels, batch_size, shuffle, cache_file=None):\\n    \\n    # Create a Dataset object\\n    dataset = tf.data.Dataset.from_tensor_slices((file_names, labels))\\n    \\n    # Map the load_and_preprocess_data function\\n    py_func = lambda file_name, label: (tf.py_function(load_and_preprocess_data, [file_name], Tout=tf.float32), label)\\n    dataset = dataset.map(py_func, num_parallel_calls=os.cpu_count())\\n    \\n    # Cache dataset\\n    if cache_file:\\n        dataset = dataset.cache(cache_file)\\n    \\n    # Shuffle    \\n    if shuffle:\\n        dataset = dataset.shuffle(len(file_names))\\n        \\n    # Repeat the dataset indefinitely\\n    dataset = dataset.repeat()\\n    \\n    # Correct input shape for the network\\n    dataset = dataset.map(lambda data, label: (tf.expand_dims(data, 1), label))\\n    \\n    # Batch\\n    dataset = dataset.batch(batch_size=batch_size)\\n    \\n    # Prefetch\\n    dataset = dataset.prefetch(buffer_size=1)\\n    \\n    return dataset\\n'"
      ]
     },
     "execution_count": 10,
     "metadata": {},
     "output_type": "execute_result"
    }
   ],
   "source": [
    "\"\"\"def create_dataset(file_names, labels, batch_size, shuffle, cache_file=None):\n",
    "    \n",
    "    # Create a Dataset object\n",
    "    dataset = tf.data.Dataset.from_tensor_slices((file_names, labels))\n",
    "    \n",
    "    # Map the load_and_preprocess_data function\n",
    "    py_func = lambda file_name, label: (tf.py_function(load_and_preprocess_data, [file_name], Tout=tf.float32), label)\n",
    "    dataset = dataset.map(py_func, num_parallel_calls=os.cpu_count())\n",
    "    \n",
    "    # Cache dataset\n",
    "    if cache_file:\n",
    "        dataset = dataset.cache(cache_file)\n",
    "    \n",
    "    # Shuffle    \n",
    "    if shuffle:\n",
    "        dataset = dataset.shuffle(len(file_names))\n",
    "        \n",
    "    # Repeat the dataset indefinitely\n",
    "    dataset = dataset.repeat()\n",
    "    \n",
    "    # Correct input shape for the network\n",
    "    dataset = dataset.map(lambda data, label: (tf.expand_dims(data, 1), label))\n",
    "    \n",
    "    # Batch\n",
    "    dataset = dataset.batch(batch_size=batch_size)\n",
    "    \n",
    "    # Prefetch\n",
    "    dataset = dataset.prefetch(buffer_size=1)\n",
    "    \n",
    "    return dataset\n",
    "\"\"\""
   ]
  },
  {
   "cell_type": "code",
   "execution_count": 11,
   "metadata": {},
   "outputs": [
    {
     "data": {
      "text/plain": [
       "\"batch_size = 32\\ntrain_dataset = create_dataset(trainWAVs, \\n                               trainWAVlabels, \\n                               batch_size=batch_size, \\n                               shuffle=True,\\n                               cache_file='train_cache')\\n\\nval_dataset = create_dataset(valWAVs, \\n                             valWAVlabels,\\n                             batch_size=batch_size, \\n                             shuffle=False,\\n                             cache_file='val_cache')\\n\\ntrain_steps = int(np.ceil(len(trainWAVs)/batch_size))\\nval_steps = int(np.ceil(len(valWAVs)/batch_size))\\n\""
      ]
     },
     "execution_count": 11,
     "metadata": {},
     "output_type": "execute_result"
    }
   ],
   "source": [
    "\"\"\"batch_size = 32\n",
    "train_dataset = create_dataset(trainWAVs, \n",
    "                               trainWAVlabels, \n",
    "                               batch_size=batch_size, \n",
    "                               shuffle=True,\n",
    "                               cache_file='train_cache')\n",
    "\n",
    "val_dataset = create_dataset(valWAVs, \n",
    "                             valWAVlabels,\n",
    "                             batch_size=batch_size, \n",
    "                             shuffle=False,\n",
    "                             cache_file='val_cache')\n",
    "\n",
    "train_steps = int(np.ceil(len(trainWAVs)/batch_size))\n",
    "val_steps = int(np.ceil(len(valWAVs)/batch_size))\n",
    "\"\"\""
   ]
  },
  {
   "cell_type": "code",
   "execution_count": 19,
   "metadata": {},
   "outputs": [],
   "source": [
    "model = Model.AttentionModel(21, 99, 39, use_GRU = True)\n",
    "adam = tf.train.AdamOptimizer(learning_rate=0.00000001,  \n",
    "                                beta1=0.9,\n",
    "                                beta2=0.999,\n",
    "                                epsilon=1e-07,\n",
    "                                use_locking=False,\n",
    "                                name='Adam')\n",
    "model.compile(optimizer=adam,\n",
    "              loss= tf.losses.softmax_cross_entropy,\n",
    "              metrics=[keras.metrics.categorical_accuracy, ])"
   ]
  },
  {
   "cell_type": "code",
   "execution_count": 13,
   "metadata": {},
   "outputs": [],
   "source": [
    "train = np.asarray(trainWAVs)\n",
    "labels = np.asarray(trainWAVlabels)\n",
    "\n",
    "for i in range(len(trainWAVs)):\n",
    "    #y, sr = librosa.load(trainWAVs[i], sr=16000)\n",
    "   \n",
    "    #if we want to write the file later\n",
    "    #librosa.output.write_wav('file.wav', y, sr, norm=False)\n",
    "      \n",
    "    #np.save(trainWAVs[i]+'.npy', y)\n",
    "    train[i] = trainWAVs[i] + '.npy'\n"
   ]
  },
  {
   "cell_type": "code",
   "execution_count": 14,
   "metadata": {},
   "outputs": [
    {
     "name": "stdout",
     "output_type": "stream",
     "text": [
      "Dataset/go/3bb68054_nohash_0.wav.npy\n",
      "11\n"
     ]
    }
   ],
   "source": [
    "print(train[15000])\n",
    "print(trainWAVlabels[15000])"
   ]
  },
  {
   "cell_type": "code",
   "execution_count": 15,
   "metadata": {},
   "outputs": [],
   "source": [
    "trainGen = SpeechGenerator.SpeechGen(train, trainWAVlabels, shuffle=True)\n",
    "\n",
    "#print(trainGen.labels[:10])\n",
    "#print(train[30:50])\n"
   ]
  },
  {
   "cell_type": "code",
   "execution_count": 20,
   "metadata": {},
   "outputs": [
    {
     "name": "stdout",
     "output_type": "stream",
     "text": [
      "Epoch 1/1\n",
      "1325/1325 [==============================] - 2439s 2s/step - loss: nan - categorical_accuracy: 0.9721\n"
     ]
    },
    {
     "name": "stderr",
     "output_type": "stream",
     "text": [
      "/home/jupyter/.local/lib/python3.5/site-packages/keras/engine/saving.py:118: UserWarning: TensorFlow optimizers do not make it possible to access optimizer attributes or optimizer state after instantiation. As a result, we cannot save the optimizer as part of the model save file.You will have to compile your model again after loading it. Prefer using a Keras optimizer instead (see keras.io/optimizers).\n",
      "  'TensorFlow optimizers do not '\n"
     ]
    },
    {
     "ename": "KeyError",
     "evalue": "'val_loss'",
     "output_type": "error",
     "traceback": [
      "\u001b[0;31m---------------------------------------------------------------------------\u001b[0m",
      "\u001b[0;31mKeyError\u001b[0m                                  Traceback (most recent call last)",
      "\u001b[0;32m<ipython-input-20-7cba15db8081>\u001b[0m in \u001b[0;36m<module>\u001b[0;34m\u001b[0m\n\u001b[1;32m      8\u001b[0m \u001b[0mplt\u001b[0m\u001b[0;34m.\u001b[0m\u001b[0mfigure\u001b[0m\u001b[0;34m(\u001b[0m\u001b[0;34m)\u001b[0m\u001b[0;34m\u001b[0m\u001b[0m\n\u001b[1;32m      9\u001b[0m \u001b[0mplt\u001b[0m\u001b[0;34m.\u001b[0m\u001b[0mplot\u001b[0m\u001b[0;34m(\u001b[0m\u001b[0mhistory\u001b[0m\u001b[0;34m.\u001b[0m\u001b[0mhistory\u001b[0m\u001b[0;34m[\u001b[0m\u001b[0;34m'loss'\u001b[0m\u001b[0;34m]\u001b[0m\u001b[0;34m,\u001b[0m \u001b[0mlabel\u001b[0m\u001b[0;34m=\u001b[0m\u001b[0;34m'Train loss'\u001b[0m\u001b[0;34m)\u001b[0m\u001b[0;34m\u001b[0m\u001b[0m\n\u001b[0;32m---> 10\u001b[0;31m \u001b[0mplt\u001b[0m\u001b[0;34m.\u001b[0m\u001b[0mplot\u001b[0m\u001b[0;34m(\u001b[0m\u001b[0mhistory\u001b[0m\u001b[0;34m.\u001b[0m\u001b[0mhistory\u001b[0m\u001b[0;34m[\u001b[0m\u001b[0;34m'val_loss'\u001b[0m\u001b[0;34m]\u001b[0m\u001b[0;34m,\u001b[0m \u001b[0mlabel\u001b[0m\u001b[0;34m=\u001b[0m\u001b[0;34m'Val loss'\u001b[0m\u001b[0;34m)\u001b[0m\u001b[0;34m\u001b[0m\u001b[0m\n\u001b[0m\u001b[1;32m     11\u001b[0m \u001b[0mplt\u001b[0m\u001b[0;34m.\u001b[0m\u001b[0mlegend\u001b[0m\u001b[0;34m(\u001b[0m\u001b[0;34m)\u001b[0m\u001b[0;34m\u001b[0m\u001b[0m\n\u001b[1;32m     12\u001b[0m \u001b[0mplt\u001b[0m\u001b[0;34m.\u001b[0m\u001b[0mxlabel\u001b[0m\u001b[0;34m(\u001b[0m\u001b[0;34m'Epoch'\u001b[0m\u001b[0;34m)\u001b[0m\u001b[0;34m\u001b[0m\u001b[0m\n",
      "\u001b[0;31mKeyError\u001b[0m: 'val_loss'"
     ]
    },
    {
     "data": {
      "image/png": "[encoded data removed]",
      "text/plain": [
       "<Figure size 432x288 with 1 Axes>"
      ]
     },
     "metadata": {
      "needs_background": "light"
     },
     "output_type": "display_data"
    }
   ],
   "source": [
    "num_epochs = 1\n",
    "history = model.fit_generator(trainGen, epochs=num_epochs)\n",
    "\n",
    "# Save the model\n",
    "model.save('my_model.h5')\n",
    "\n",
    "# Plot loss\n",
    "plt.figure()\n",
    "plt.plot(history.history['loss'], label='Train loss')\n",
    "plt.plot(history.history['val_loss'], label='Val loss')\n",
    "plt.legend()\n",
    "plt.xlabel('Epoch')\n",
    "plt.ylabel('Loss')\n",
    "\n",
    "# Plot accuracy\n",
    "plt.figure()\n",
    "plt.plot(history.history['acc'], label='Train loss')\n",
    "plt.plot(history.history['val_acc'], label='Val loss')\n",
    "plt.legend()\n",
    "\n",
    "plt.xlabel('Epoch')\n",
    "plt.ylabel('Accuracy')"
   ]
  },
  {
   "cell_type": "code",
   "execution_count": null,
   "metadata": {},
   "outputs": [
    {
     "name": "stdout",
     "output_type": "stream",
     "text": [
      " 881/1325 [==================>...........] - ETA: 5:28"
     ]
    }
   ],
   "source": [
    "trainEval = model.evaluate_generator(trainGen, use_multiprocessing=True, workers=4,verbose=1)"
   ]
  },
  {
   "cell_type": "code",
   "execution_count": null,
   "metadata": {},
   "outputs": [],
   "source": []
  }
 ],
 "metadata": {
  "kernelspec": {
   "display_name": "Python 3",
   "language": "python",
   "name": "python3"
  },
  "language_info": {
   "codemirror_mode": {
    "name": "ipython",
    "version": 3
   },
   "file_extension": ".py",
   "mimetype": "text/x-python",
   "name": "python",
   "nbconvert_exporter": "python",
   "pygments_lexer": "ipython3",
   "version": "3.5.3"
  }
 },
 "nbformat": 4,
 "nbformat_minor": 2
}
